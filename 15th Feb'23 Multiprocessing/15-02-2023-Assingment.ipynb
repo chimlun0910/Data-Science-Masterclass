{
 "cells": [
  {
   "attachments": {},
   "cell_type": "markdown",
   "metadata": {},
   "source": [
    "**Q1. What is multiprocessing in python? Why is it useful?**\n",
    "\n",
    "- multiprocessing is a package that supports spawning processes using an API similar to the threading module. The multiprocessing package offers both local and remote concurrency, effectively side-stepping the Global Interpreter Lock by using subprocesses instead of threads. Due to this, the multiprocessing module allows the programmer to fully leverage multiple processors on a given machine. It runs on both Unix and Windows.\n",
    "\n",
    "- Multiprocessing can make a program substantially more efficient by running multiple tasks in parallel instead of sequentially."
   ]
  },
  {
   "attachments": {},
   "cell_type": "markdown",
   "metadata": {},
   "source": [
    "**Q2. What are the differences between multiprocessing and multithreading?**\n",
    "\n",
    "- Multithreading refers to the ability of a processor to execute multiple threads concurrently, where each thread runs a process. Whereas multiprocessing refers to the ability of a system to run multiple processors concurrently, where each processor can run one or more threads."
   ]
  },
  {
   "attachments": {},
   "cell_type": "markdown",
   "metadata": {},
   "source": [
    "**Q3. Write a python code to create a process using the multiprocessing module.**"
   ]
  },
  {
   "cell_type": "code",
   "execution_count": 2,
   "metadata": {},
   "outputs": [
    {
     "name": "stdout",
     "output_type": "stream",
     "text": [
      "Hello World\n",
      "This is Data Science Masterclass\n"
     ]
    }
   ],
   "source": [
    "import multiprocessing\n",
    "\n",
    "def say(msg):\n",
    "    print(msg)\n",
    "\n",
    "if __name__ == \"__main__\":\n",
    "    msg = \"This is Data Science Masterclass\"\n",
    "    m = multiprocessing.Process(target = say, args = (msg,))\n",
    "    print(\"Hello World\")\n",
    "    m.start()\n",
    "    m.join()"
   ]
  },
  {
   "attachments": {},
   "cell_type": "markdown",
   "metadata": {},
   "source": [
    "**Q4. What is a multiprocessing pool in python? Why is it used?**\n",
    "\n",
    "- A process of pool object which controls a pool of worker processes to which jobs can be submitted. \n",
    "- It supports asynchronous results with timeouts and callbacks and has a parallel map implementation."
   ]
  },
  {
   "attachments": {},
   "cell_type": "markdown",
   "metadata": {},
   "source": [
    "**Q5. How can we create a pool of worker processes in python using the multiprocessing module?**\n",
    "\n",
    "- Create the process pool by calling the constructor multiprocessing.Pool()\n",
    "\n",
    "- Arguments:\n",
    "    - processes: Maximun number of worker processes to use in pool.\n",
    "    - initializer: Function executed after each worker process is created.\n",
    "    - initargs:: Arguments to the worker process initialization function.\n",
    "    - maxtaskperchild: Limit the maximun number of tasks executed by each worker process.\n",
    "    - context: Configure the multiprocessing context such as the process start method."
   ]
  },
  {
   "cell_type": "code",
   "execution_count": 3,
   "metadata": {},
   "outputs": [],
   "source": [
    "pool = multiprocessing.Pool()"
   ]
  },
  {
   "attachments": {},
   "cell_type": "markdown",
   "metadata": {},
   "source": [
    "**Q6. Write a python program to create 4 processes, each process should print a different number using the multiprocessing module in python.**"
   ]
  },
  {
   "cell_type": "code",
   "execution_count": 4,
   "metadata": {},
   "outputs": [
    {
     "name": "stdout",
     "output_type": "stream",
     "text": [
      "1\n",
      "2\n",
      "3\n",
      "4\n"
     ]
    }
   ],
   "source": [
    "import multiprocessing\n",
    "\n",
    "def print_number(number):\n",
    "    print(number)\n",
    "\n",
    "if __name__ == \"__main__\":\n",
    "    m1 = multiprocessing.Process(target = print_number, args = (1,))\n",
    "    m2 = multiprocessing.Process(target = print_number, args = (2,))\n",
    "    m3 = multiprocessing.Process(target = print_number, args = (3,))\n",
    "    m4 = multiprocessing.Process(target = print_number, args = (4,))\n",
    "    m1.start()\n",
    "    m2.start()\n",
    "    m3.start()\n",
    "    m4.start()\n",
    "    m1.join()\n",
    "    m2.join()\n",
    "    m3.join()\n",
    "    m4.join()"
   ]
  }
 ],
 "metadata": {
  "kernelspec": {
   "display_name": "Python 3",
   "language": "python",
   "name": "python3"
  },
  "language_info": {
   "codemirror_mode": {
    "name": "ipython",
    "version": 3
   },
   "file_extension": ".py",
   "mimetype": "text/x-python",
   "name": "python",
   "nbconvert_exporter": "python",
   "pygments_lexer": "ipython3",
   "version": "3.10.6"
  },
  "orig_nbformat": 4,
  "vscode": {
   "interpreter": {
    "hash": "e7370f93d1d0cde622a1f8e1c04877d8463912d04d973331ad4851f04de6915a"
   }
  }
 },
 "nbformat": 4,
 "nbformat_minor": 2
}
