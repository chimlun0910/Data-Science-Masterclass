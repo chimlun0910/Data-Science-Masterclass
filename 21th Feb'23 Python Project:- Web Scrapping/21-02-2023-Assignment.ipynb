{
 "cells": [
  {
   "attachments": {},
   "cell_type": "markdown",
   "metadata": {},
   "source": [
    "**Q1. What is Web Scraping? Why is it Used? Give three areas where Web Scraping is used to get data.**\n",
    "\n",
    "- Web scraping is an automatic method to obtain large amounts of data from websites. Most of this data is unstructured data in an HTML format which is then converted into structured data in a spreadsheet or a database.\n",
    "\n",
    "- Three areas where Web Scraping is used:\n",
    "    - Price Comparison & Competition Monitoring.\n",
    "    - Data Analysis.\n",
    "    - Training and Testing Data for Machine Learning Project."
   ]
  },
  {
   "attachments": {},
   "cell_type": "markdown",
   "metadata": {},
   "source": [
    "**Q2. What are the different methods used for Web Scraping?**\n",
    "\n",
    "- HTML Parsing.\n",
    "- DOM Parsing.\n",
    "- Vertical Aggregation.\n",
    "- Vertical Aggregation.\n",
    "- Google Sheets."
   ]
  },
  {
   "attachments": {},
   "cell_type": "markdown",
   "metadata": {},
   "source": [
    "**Q3. What is Beautiful Soup? Why is it used?**\n",
    "\n",
    "- Beautiful Soup is a Python library that makes it easy to scrape information from web pages. It sits atop an HTML or XML parser and provides Pythonic idioms for iterating, searching, and modifying the parse tree.\n",
    "\n",
    "- It transforms a complex HTML document into a tree of Python objects. It also automatically converts the document to Unicode, so you don’t have to think about encodings. This tool not only helps you scrape but also to clean the data."
   ]
  },
  {
   "attachments": {},
   "cell_type": "markdown",
   "metadata": {},
   "source": [
    "**Q4. Why is flask used in this Web Scraping project?**\n",
    "\n",
    "- Flask is a fast ,lightweight and Beginners friendly web Framework written in Python which uses Werkzeug WSGI toolkit and Jinja2 template engine.\n",
    "\n",
    "- We’ll use this to parse our collected data and display it as HTML in a new HTML file."
   ]
  },
  {
   "attachments": {},
   "cell_type": "markdown",
   "metadata": {},
   "source": [
    "**Q5. Write the names of AWS services used in this project. Also, explain the use of each service.**\n",
    "\n",
    "- AWS CodePipeline: AWS CodePipeline is a continuous delivery service you can use to model, visualize, and automate the steps required to release your software. You can quickly model and configure the different stages of a software release process. CodePipeline automates the steps required to release your software changes continuously. For information about pricing for CodePipeline\n",
    "\n",
    "- Elastic Beanstalk: With Elastic Beanstalk, you can quickly deploy and manage applications in the AWS Cloud without having to learn about the infrastructure that runs those applications. Elastic Beanstalk reduces management complexity without restricting choice or control. "
   ]
  }
 ],
 "metadata": {
  "language_info": {
   "name": "python"
  },
  "orig_nbformat": 4
 },
 "nbformat": 4,
 "nbformat_minor": 2
}
