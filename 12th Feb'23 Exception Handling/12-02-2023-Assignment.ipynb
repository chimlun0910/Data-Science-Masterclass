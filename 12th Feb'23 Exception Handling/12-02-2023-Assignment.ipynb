{
 "cells": [
  {
   "attachments": {},
   "cell_type": "markdown",
   "metadata": {},
   "source": [
    "**Q1. What is an Exception in python ? Write the difference between Exceptions and Syntax Errors.**\n",
    "\n",
    "- Exception is an event occurs during the execution of a program that disrupts the normal flow of the program's instruction.\n",
    "\n",
    "- The difference between Syntax Errors and Exceptions are that Errors cannot be handled, while Python exceptions can be handled at the run time. We can use handling exceptions to modify the code ro run based on our thinking."
   ]
  },
  {
   "attachments": {},
   "cell_type": "markdown",
   "metadata": {},
   "source": [
    "**Q2. What happens when an exception is not handled ? Explain with an example.**\n",
    "\n",
    "- When an exception is not handled, the program will terminates abruptly and the code below the line that has not dealed with exception will not get executed."
   ]
  },
  {
   "cell_type": "code",
   "execution_count": 1,
   "metadata": {},
   "outputs": [
    {
     "ename": "ZeroDivisionError",
     "evalue": "division by zero",
     "output_type": "error",
     "traceback": [
      "\u001b[0;31m---------------------------------------------------------------------------\u001b[0m",
      "\u001b[0;31mZeroDivisionError\u001b[0m                         Traceback (most recent call last)",
      "Cell \u001b[0;32mIn[1], line 2\u001b[0m\n\u001b[1;32m      1\u001b[0m a \u001b[39m=\u001b[39m \u001b[39m10\u001b[39m\n\u001b[0;32m----> 2\u001b[0m \u001b[39mprint\u001b[39m(a \u001b[39m/\u001b[39;49m \u001b[39m0\u001b[39;49m)\n\u001b[1;32m      3\u001b[0m \u001b[39mprint\u001b[39m(\u001b[39m\"\u001b[39m\u001b[39mHello World!!\u001b[39m\u001b[39m\"\u001b[39m)\n",
      "\u001b[0;31mZeroDivisionError\u001b[0m: division by zero"
     ]
    }
   ],
   "source": [
    "a = 10\n",
    "print(a / 0)\n",
    "print(\"Hello World!!\")"
   ]
  },
  {
   "attachments": {},
   "cell_type": "markdown",
   "metadata": {},
   "source": [
    "- The line code print(\"Hello World!!\") was not executed due to Exception \"ZeroDivisionError\" of line print(a / 0)"
   ]
  },
  {
   "attachments": {},
   "cell_type": "markdown",
   "metadata": {},
   "source": [
    "**Q3. Which python statements are used to catch and handle exceptions ? Explain with an example.**\n",
    "\n",
    "- Statements **try**, **except** are used to catch and handle exceptions."
   ]
  },
  {
   "cell_type": "code",
   "execution_count": 2,
   "metadata": {},
   "outputs": [],
   "source": [
    "import logging"
   ]
  },
  {
   "cell_type": "code",
   "execution_count": 4,
   "metadata": {},
   "outputs": [],
   "source": [
    "logging.basicConfig(filename = \"12-02-2023-Assignment.log\", level = logging.DEBUG)"
   ]
  },
  {
   "cell_type": "code",
   "execution_count": 11,
   "metadata": {},
   "outputs": [],
   "source": [
    "class valid_deposit_amount(Exception):\n",
    "    def __init__(self, msg):\n",
    "        self.msg = msg"
   ]
  },
  {
   "cell_type": "code",
   "execution_count": 12,
   "metadata": {},
   "outputs": [],
   "source": [
    "class bank_amount:\n",
    "    def __init__(self, amount):\n",
    "        self.__amount = amount\n",
    "    \n",
    "    @property\n",
    "    def get_amount(self):\n",
    "        return self.__amount\n",
    "    \n",
    "    @get_amount.setter\n",
    "    def deposit(self, new_amount):\n",
    "        try:\n",
    "            if new_amount < 0:\n",
    "                logging.warning(\"Deposit Amount lesser than 0$\")\n",
    "                raise valid_deposit_amount(\"Deposit Amount should not be lesser than 0$\")\n",
    "        except valid_deposit_amount as e:\n",
    "            print(e)\n",
    "        else:\n",
    "            self.__amount += new_amount\n",
    "        finally:\n",
    "            logging.shutdown()\n",
    "        "
   ]
  },
  {
   "cell_type": "code",
   "execution_count": 13,
   "metadata": {},
   "outputs": [],
   "source": [
    "ronan = bank_amount(10)"
   ]
  },
  {
   "cell_type": "code",
   "execution_count": 14,
   "metadata": {},
   "outputs": [
    {
     "name": "stdout",
     "output_type": "stream",
     "text": [
      "Deposit Amount should not be lesser than 0$\n"
     ]
    }
   ],
   "source": [
    "ronan.deposit = -10"
   ]
  },
  {
   "cell_type": "code",
   "execution_count": 15,
   "metadata": {},
   "outputs": [],
   "source": [
    "logging.shutdown()"
   ]
  },
  {
   "attachments": {},
   "cell_type": "markdown",
   "metadata": {},
   "source": [
    "**Q4. Explain with an example:**\n",
    "    \n",
    "    a. try and else\n",
    "    \n",
    "    b. finally\n",
    "    \n",
    "    c. raise"
   ]
  },
  {
   "cell_type": "code",
   "execution_count": 33,
   "metadata": {},
   "outputs": [
    {
     "name": "stdout",
     "output_type": "stream",
     "text": [
      "Your file existed!! else block is now working\n"
     ]
    }
   ],
   "source": [
    "# a. try and else\n",
    "try:\n",
    "    f = open(\"12_02_2023_text11.txt\", \"r\")\n",
    "except Exception as e:\n",
    "    print(\"Maybe your file not exist!! Please check it again\")\n",
    "else:\n",
    "    print(\"Your file existed!! else block is now working\")"
   ]
  },
  {
   "cell_type": "code",
   "execution_count": 31,
   "metadata": {},
   "outputs": [
    {
     "name": "stdout",
     "output_type": "stream",
     "text": [
      "Maybe your file not exist!! Please check it again\n",
      "finally block will always be executed\n"
     ]
    }
   ],
   "source": [
    "# b. finally\n",
    "try:\n",
    "    f = open(\"12_02_2023_text12.txt\", \"r\")\n",
    "except Exception as e:\n",
    "    print(\"Maybe your file not exist!! Please check it again\")\n",
    "else:\n",
    "    print(\"Your file existed!! else block is now working\")\n",
    "finally:\n",
    "    print(\"finally block will always be executed\")"
   ]
  },
  {
   "cell_type": "code",
   "execution_count": 32,
   "metadata": {},
   "outputs": [
    {
     "ename": "FileNotFoundError",
     "evalue": "Your File does not exist!! Please check it again!",
     "output_type": "error",
     "traceback": [
      "\u001b[0;31m---------------------------------------------------------------------------\u001b[0m",
      "\u001b[0;31mFileNotFoundError\u001b[0m                         Traceback (most recent call last)",
      "Cell \u001b[0;32mIn[32], line 3\u001b[0m\n\u001b[1;32m      2\u001b[0m \u001b[39mtry\u001b[39;00m:\n\u001b[0;32m----> 3\u001b[0m     f \u001b[39m=\u001b[39m \u001b[39mopen\u001b[39;49m(\u001b[39m\"\u001b[39;49m\u001b[39m12_02_2023_text13.txt\u001b[39;49m\u001b[39m\"\u001b[39;49m, \u001b[39m\"\u001b[39;49m\u001b[39mr\u001b[39;49m\u001b[39m\"\u001b[39;49m)\n\u001b[1;32m      4\u001b[0m \u001b[39mexcept\u001b[39;00m \u001b[39mException\u001b[39;00m \u001b[39mas\u001b[39;00m e:\n",
      "File \u001b[0;32m~/.local/lib/python3.10/site-packages/IPython/core/interactiveshell.py:282\u001b[0m, in \u001b[0;36m_modified_open\u001b[0;34m(file, *args, **kwargs)\u001b[0m\n\u001b[1;32m    276\u001b[0m     \u001b[39mraise\u001b[39;00m \u001b[39mValueError\u001b[39;00m(\n\u001b[1;32m    277\u001b[0m         \u001b[39mf\u001b[39m\u001b[39m\"\u001b[39m\u001b[39mIPython won\u001b[39m\u001b[39m'\u001b[39m\u001b[39mt let you open fd=\u001b[39m\u001b[39m{\u001b[39;00mfile\u001b[39m}\u001b[39;00m\u001b[39m by default \u001b[39m\u001b[39m\"\u001b[39m\n\u001b[1;32m    278\u001b[0m         \u001b[39m\"\u001b[39m\u001b[39mas it is likely to crash IPython. If you know what you are doing, \u001b[39m\u001b[39m\"\u001b[39m\n\u001b[1;32m    279\u001b[0m         \u001b[39m\"\u001b[39m\u001b[39myou can use builtins\u001b[39m\u001b[39m'\u001b[39m\u001b[39m open.\u001b[39m\u001b[39m\"\u001b[39m\n\u001b[1;32m    280\u001b[0m     )\n\u001b[0;32m--> 282\u001b[0m \u001b[39mreturn\u001b[39;00m io_open(file, \u001b[39m*\u001b[39;49margs, \u001b[39m*\u001b[39;49m\u001b[39m*\u001b[39;49mkwargs)\n",
      "\u001b[0;31mFileNotFoundError\u001b[0m: [Errno 2] No such file or directory: '12_02_2023_text13.txt'",
      "\nDuring handling of the above exception, another exception occurred:\n",
      "\u001b[0;31mFileNotFoundError\u001b[0m                         Traceback (most recent call last)",
      "Cell \u001b[0;32mIn[32], line 5\u001b[0m\n\u001b[1;32m      3\u001b[0m     f \u001b[39m=\u001b[39m \u001b[39mopen\u001b[39m(\u001b[39m\"\u001b[39m\u001b[39m12_02_2023_text13.txt\u001b[39m\u001b[39m\"\u001b[39m, \u001b[39m\"\u001b[39m\u001b[39mr\u001b[39m\u001b[39m\"\u001b[39m)\n\u001b[1;32m      4\u001b[0m \u001b[39mexcept\u001b[39;00m \u001b[39mException\u001b[39;00m \u001b[39mas\u001b[39;00m e:\n\u001b[0;32m----> 5\u001b[0m     \u001b[39mraise\u001b[39;00m \u001b[39mFileNotFoundError\u001b[39;00m(\u001b[39m\"\u001b[39m\u001b[39mYour File does not exist!! Please check it again!\u001b[39m\u001b[39m\"\u001b[39m)\n\u001b[1;32m      6\u001b[0m \u001b[39melse\u001b[39;00m:\n\u001b[1;32m      7\u001b[0m     \u001b[39mprint\u001b[39m(\u001b[39m\"\u001b[39m\u001b[39mYour file existed!! else block is now working\u001b[39m\u001b[39m\"\u001b[39m)\n",
      "\u001b[0;31mFileNotFoundError\u001b[0m: Your File does not exist!! Please check it again!"
     ]
    }
   ],
   "source": [
    "# c. raise\n",
    "try:\n",
    "    f = open(\"12_02_2023_text13.txt\", \"r\")\n",
    "except Exception as e:\n",
    "    raise FileNotFoundError(\"Your File does not exist!! Please check it again!\")\n",
    "else:\n",
    "    print(\"Your file existed!! else block is now working\")"
   ]
  },
  {
   "attachments": {},
   "cell_type": "markdown",
   "metadata": {},
   "source": [
    "**Q5. What are Custom Exceptions in python ? Why do we need Custom Exceptions ? Explain with an example.**\n",
    "\n",
    "- Custom Exceptions is the same as standard exception classes because custom exceptions are also classes. Hence, you can add functionality to the custom exception classes like: Adding your own attributes and properties.\n",
    "\n",
    "- For many reasons, the default exception of Python is general and not specific. So that, custom exceptions are created to serve own purposes."
   ]
  },
  {
   "cell_type": "code",
   "execution_count": 26,
   "metadata": {},
   "outputs": [],
   "source": [
    "class AgeError(Exception):\n",
    "    def __init__(self, msg):\n",
    "        self.msg = msg"
   ]
  },
  {
   "cell_type": "code",
   "execution_count": 20,
   "metadata": {},
   "outputs": [],
   "source": [
    "def check_age_valid(age):\n",
    "    if age < 0:\n",
    "        raise AgeError(\"Age should not be lesser that 0!\")\n",
    "    elif age > 160:\n",
    "        raise AgeError(\"Age is too high!\")\n",
    "    else:\n",
    "        print(\"Valid!!\")"
   ]
  },
  {
   "cell_type": "code",
   "execution_count": 21,
   "metadata": {},
   "outputs": [
    {
     "name": "stdout",
     "output_type": "stream",
     "text": [
      "Valid!!\n"
     ]
    }
   ],
   "source": [
    "check_age_valid(34)"
   ]
  },
  {
   "cell_type": "code",
   "execution_count": 23,
   "metadata": {},
   "outputs": [
    {
     "ename": "AgeError",
     "evalue": "Age should not be lesser that 0!",
     "output_type": "error",
     "traceback": [
      "\u001b[0;31m---------------------------------------------------------------------------\u001b[0m",
      "\u001b[0;31mAgeError\u001b[0m                                  Traceback (most recent call last)",
      "Cell \u001b[0;32mIn[23], line 1\u001b[0m\n\u001b[0;32m----> 1\u001b[0m check_age_valid(\u001b[39m-\u001b[39;49m\u001b[39m4\u001b[39;49m)\n",
      "Cell \u001b[0;32mIn[20], line 3\u001b[0m, in \u001b[0;36mcheck_age_valid\u001b[0;34m(age)\u001b[0m\n\u001b[1;32m      1\u001b[0m \u001b[39mdef\u001b[39;00m \u001b[39mcheck_age_valid\u001b[39m(age):\n\u001b[1;32m      2\u001b[0m     \u001b[39mif\u001b[39;00m age \u001b[39m<\u001b[39m \u001b[39m0\u001b[39m:\n\u001b[0;32m----> 3\u001b[0m         \u001b[39mraise\u001b[39;00m AgeError(\u001b[39m\"\u001b[39m\u001b[39mAge should not be lesser that 0!\u001b[39m\u001b[39m\"\u001b[39m)\n\u001b[1;32m      4\u001b[0m     \u001b[39melif\u001b[39;00m age \u001b[39m>\u001b[39m \u001b[39m160\u001b[39m:\n\u001b[1;32m      5\u001b[0m         \u001b[39mraise\u001b[39;00m AgeError(\u001b[39m\"\u001b[39m\u001b[39mAge is too high!\u001b[39m\u001b[39m\"\u001b[39m)\n",
      "\u001b[0;31mAgeError\u001b[0m: Age should not be lesser that 0!"
     ]
    }
   ],
   "source": [
    "check_age_valid(-4)"
   ]
  },
  {
   "cell_type": "code",
   "execution_count": 24,
   "metadata": {},
   "outputs": [
    {
     "ename": "AgeError",
     "evalue": "Age is too high!",
     "output_type": "error",
     "traceback": [
      "\u001b[0;31m---------------------------------------------------------------------------\u001b[0m",
      "\u001b[0;31mAgeError\u001b[0m                                  Traceback (most recent call last)",
      "Cell \u001b[0;32mIn[24], line 1\u001b[0m\n\u001b[0;32m----> 1\u001b[0m check_age_valid(\u001b[39m190\u001b[39;49m)\n",
      "Cell \u001b[0;32mIn[20], line 5\u001b[0m, in \u001b[0;36mcheck_age_valid\u001b[0;34m(age)\u001b[0m\n\u001b[1;32m      3\u001b[0m     \u001b[39mraise\u001b[39;00m AgeError(\u001b[39m\"\u001b[39m\u001b[39mAge should not be lesser that 0!\u001b[39m\u001b[39m\"\u001b[39m)\n\u001b[1;32m      4\u001b[0m \u001b[39melif\u001b[39;00m age \u001b[39m>\u001b[39m \u001b[39m160\u001b[39m:\n\u001b[0;32m----> 5\u001b[0m     \u001b[39mraise\u001b[39;00m AgeError(\u001b[39m\"\u001b[39m\u001b[39mAge is too high!\u001b[39m\u001b[39m\"\u001b[39m)\n\u001b[1;32m      6\u001b[0m \u001b[39melse\u001b[39;00m:\n\u001b[1;32m      7\u001b[0m     \u001b[39mprint\u001b[39m(\u001b[39m\"\u001b[39m\u001b[39mValid!!\u001b[39m\u001b[39m\"\u001b[39m)\n",
      "\u001b[0;31mAgeError\u001b[0m: Age is too high!"
     ]
    }
   ],
   "source": [
    "check_age_valid(190)"
   ]
  },
  {
   "attachments": {},
   "cell_type": "markdown",
   "metadata": {},
   "source": [
    "**Q6. Create a custom exception class. Use this class to handle an exception.**"
   ]
  },
  {
   "cell_type": "code",
   "execution_count": 25,
   "metadata": {},
   "outputs": [],
   "source": [
    "class AgeError(Exception):\n",
    "    def __init__(self, msg):\n",
    "        self.msg = msg"
   ]
  },
  {
   "cell_type": "code",
   "execution_count": 27,
   "metadata": {},
   "outputs": [],
   "source": [
    "def check_age_work(age):\n",
    "    \"\"\"Check whether a particular person age is valid for the job\n",
    "\n",
    "    Args:\n",
    "        age (int): Age of person\n",
    "    \"\"\"\n",
    "    if age < 18:\n",
    "        raise AgeError(\"Too young to work !!\")\n",
    "    elif age > 60:\n",
    "        raise AgeError(\"Health is not guaranteed !!\")\n",
    "    else:\n",
    "        print(\"Suitable !!\")"
   ]
  },
  {
   "cell_type": "code",
   "execution_count": 28,
   "metadata": {},
   "outputs": [
    {
     "ename": "AgeError",
     "evalue": "Too young to work !!",
     "output_type": "error",
     "traceback": [
      "\u001b[0;31m---------------------------------------------------------------------------\u001b[0m",
      "\u001b[0;31mAgeError\u001b[0m                                  Traceback (most recent call last)",
      "Cell \u001b[0;32mIn[28], line 1\u001b[0m\n\u001b[0;32m----> 1\u001b[0m check_age_work(\u001b[39m10\u001b[39;49m)\n",
      "Cell \u001b[0;32mIn[27], line 8\u001b[0m, in \u001b[0;36mcheck_age_work\u001b[0;34m(age)\u001b[0m\n\u001b[1;32m      2\u001b[0m \u001b[39m\u001b[39m\u001b[39m\"\"\"Check whether a particular person age is valid for the job\u001b[39;00m\n\u001b[1;32m      3\u001b[0m \n\u001b[1;32m      4\u001b[0m \u001b[39mArgs:\u001b[39;00m\n\u001b[1;32m      5\u001b[0m \u001b[39m    age (int): Age of person\u001b[39;00m\n\u001b[1;32m      6\u001b[0m \u001b[39m\"\"\"\u001b[39;00m\n\u001b[1;32m      7\u001b[0m \u001b[39mif\u001b[39;00m age \u001b[39m<\u001b[39m \u001b[39m18\u001b[39m:\n\u001b[0;32m----> 8\u001b[0m     \u001b[39mraise\u001b[39;00m AgeError(\u001b[39m\"\u001b[39m\u001b[39mToo young to work !!\u001b[39m\u001b[39m\"\u001b[39m)\n\u001b[1;32m      9\u001b[0m \u001b[39melif\u001b[39;00m age \u001b[39m>\u001b[39m \u001b[39m60\u001b[39m:\n\u001b[1;32m     10\u001b[0m     \u001b[39mraise\u001b[39;00m AgeError(\u001b[39m\"\u001b[39m\u001b[39mHealth is not guaranteed !!\u001b[39m\u001b[39m\"\u001b[39m)\n",
      "\u001b[0;31mAgeError\u001b[0m: Too young to work !!"
     ]
    }
   ],
   "source": [
    "check_age_work(10)"
   ]
  },
  {
   "cell_type": "code",
   "execution_count": 29,
   "metadata": {},
   "outputs": [
    {
     "ename": "AgeError",
     "evalue": "Health is not guaranteed !!",
     "output_type": "error",
     "traceback": [
      "\u001b[0;31m---------------------------------------------------------------------------\u001b[0m",
      "\u001b[0;31mAgeError\u001b[0m                                  Traceback (most recent call last)",
      "Cell \u001b[0;32mIn[29], line 1\u001b[0m\n\u001b[0;32m----> 1\u001b[0m check_age_work(\u001b[39m99\u001b[39;49m)\n",
      "Cell \u001b[0;32mIn[27], line 10\u001b[0m, in \u001b[0;36mcheck_age_work\u001b[0;34m(age)\u001b[0m\n\u001b[1;32m      8\u001b[0m     \u001b[39mraise\u001b[39;00m AgeError(\u001b[39m\"\u001b[39m\u001b[39mToo young to work !!\u001b[39m\u001b[39m\"\u001b[39m)\n\u001b[1;32m      9\u001b[0m \u001b[39melif\u001b[39;00m age \u001b[39m>\u001b[39m \u001b[39m60\u001b[39m:\n\u001b[0;32m---> 10\u001b[0m     \u001b[39mraise\u001b[39;00m AgeError(\u001b[39m\"\u001b[39m\u001b[39mHealth is not guaranteed !!\u001b[39m\u001b[39m\"\u001b[39m)\n\u001b[1;32m     11\u001b[0m \u001b[39melse\u001b[39;00m:\n\u001b[1;32m     12\u001b[0m     \u001b[39mprint\u001b[39m(\u001b[39m\"\u001b[39m\u001b[39mSuitable !!\u001b[39m\u001b[39m\"\u001b[39m)\n",
      "\u001b[0;31mAgeError\u001b[0m: Health is not guaranteed !!"
     ]
    }
   ],
   "source": [
    "check_age_work(99)"
   ]
  },
  {
   "cell_type": "code",
   "execution_count": null,
   "metadata": {},
   "outputs": [],
   "source": []
  }
 ],
 "metadata": {
  "kernelspec": {
   "display_name": "Python 3",
   "language": "python",
   "name": "python3"
  },
  "language_info": {
   "codemirror_mode": {
    "name": "ipython",
    "version": 3
   },
   "file_extension": ".py",
   "mimetype": "text/x-python",
   "name": "python",
   "nbconvert_exporter": "python",
   "pygments_lexer": "ipython3",
   "version": "3.10.6"
  },
  "orig_nbformat": 4,
  "vscode": {
   "interpreter": {
    "hash": "e7370f93d1d0cde622a1f8e1c04877d8463912d04d973331ad4851f04de6915a"
   }
  }
 },
 "nbformat": 4,
 "nbformat_minor": 2
}
