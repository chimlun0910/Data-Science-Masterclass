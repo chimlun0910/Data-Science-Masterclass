{
 "cells": [
  {
   "attachments": {},
   "cell_type": "markdown",
   "metadata": {},
   "source": [
    "**Q1. What is multithreading in python? Why is it used? Name the module used to handle threads in python.**\n",
    "\n",
    "- Multithreading in Python programming is a well-known technique in which multiple threads in a process share their data space with the main thread.\n",
    "- Multithreading makes information sharing and communication within threads easy and efficient. Also, multithreading in some circumstances can make the process faster.\n",
    "- The module threading is used to handle threads in Python."
   ]
  },
  {
   "attachments": {},
   "cell_type": "markdown",
   "metadata": {},
   "source": [
    "**Q2. Why threading module used? Write the use of the following functions:**\n",
    "\n",
    "- Threading module is used to perform operations on threading.\n",
    "\n",
    "1. activeCount(): Return the number of Thread objects currently alive.\n",
    "\n",
    "2. currentThread(): Return the current Thread object, corresponding to the caller's thread of control. If the caller's thread of control was not created through the threading module, a dummy thread object with limited functionality is limited.\n",
    "\n",
    "3. enumerate(): Return the length of the list."
   ]
  },
  {
   "attachments": {},
   "cell_type": "markdown",
   "metadata": {},
   "source": [
    "**Q3. Explain the following functions:**\n",
    "\n",
    "1. run(): Method representing the thread's activity. \n",
    "\n",
    "2. start(): Start the thread 's activity. This method will raise a RuntimeError if called more than once on the same thread object.\n",
    "\n",
    "3. join(): Wait until the thread terminates. A thread can be joined many times.\n",
    "\n",
    "4. isAlive(): Return whether the thread is alive."
   ]
  },
  {
   "attachments": {},
   "cell_type": "markdown",
   "metadata": {},
   "source": [
    "**Q4. Write a python program to create two threads. Thread one must print the list of squares and thread two must print the list of cubes**"
   ]
  },
  {
   "cell_type": "code",
   "execution_count": 2,
   "metadata": {},
   "outputs": [],
   "source": [
    "import threading"
   ]
  },
  {
   "cell_type": "code",
   "execution_count": 6,
   "metadata": {},
   "outputs": [],
   "source": [
    "def square(num):\n",
    "    print(num ** 2)\n",
    "\n",
    "def cube(num):\n",
    "    print(num ** 3)"
   ]
  },
  {
   "cell_type": "code",
   "execution_count": 7,
   "metadata": {},
   "outputs": [],
   "source": [
    "l = [1, 2, 3, 6, 7, 9]\n",
    "m1 = [threading.Thread(target = square, args = (l[i],)) for i in range(len(l))]\n",
    "m2 = [threading.Thread(target = cube, args = (l[i],)) for i in range(len(l))]"
   ]
  },
  {
   "cell_type": "code",
   "execution_count": 9,
   "metadata": {},
   "outputs": [
    {
     "name": "stdout",
     "output_type": "stream",
     "text": [
      "1\n",
      "1\n",
      "4\n",
      "8\n",
      "9\n",
      "27\n",
      "36\n",
      "216\n",
      "49\n",
      "343\n",
      "81\n",
      "729\n"
     ]
    }
   ],
   "source": [
    "for i in range(len(l)):\n",
    "    m1[i].start()\n",
    "    m2[i].start()"
   ]
  },
  {
   "attachments": {},
   "cell_type": "markdown",
   "metadata": {},
   "source": [
    "**Q5. State advantages and disadvantages of multithreading.**\n",
    "\n",
    "- Advantages:\n",
    "    - Enhanced performance by decreased development time.\n",
    "    - Simplified and streamlined program coding.\n",
    "    - Better use of CPU resource.\n",
    "    - Decreased cost of maintenance.\n",
    "- Disadvantages:\n",
    "    - Complex debugging and testing process.\n",
    "    - Overhead switching of context.\n",
    "    - Increased potential for deadlock occurence."
   ]
  },
  {
   "attachments": {},
   "cell_type": "markdown",
   "metadata": {},
   "source": [
    "**Q6. Explain deadlocks and race conditions.**\n",
    "\n",
    "- A race condition occurs when two threads use the same variable at a given time.\n",
    "\n",
    "- Deadlock exists when two threads seek one lock simultaneously.  "
   ]
  }
 ],
 "metadata": {
  "kernelspec": {
   "display_name": "Python 3",
   "language": "python",
   "name": "python3"
  },
  "language_info": {
   "codemirror_mode": {
    "name": "ipython",
    "version": 3
   },
   "file_extension": ".py",
   "mimetype": "text/x-python",
   "name": "python",
   "nbconvert_exporter": "python",
   "pygments_lexer": "ipython3",
   "version": "3.10.6"
  },
  "orig_nbformat": 4,
  "vscode": {
   "interpreter": {
    "hash": "e7370f93d1d0cde622a1f8e1c04877d8463912d04d973331ad4851f04de6915a"
   }
  }
 },
 "nbformat": 4,
 "nbformat_minor": 2
}
