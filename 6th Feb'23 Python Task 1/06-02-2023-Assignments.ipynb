{
 "cells": [
  {
   "attachments": {},
   "cell_type": "markdown",
   "metadata": {},
   "source": [
    "**Q1. Create a function which will take a list as an argument and return the product of all the numbers after creating a flat list. Use the below-given list as an argument for your function.**"
   ]
  },
  {
   "cell_type": "code",
   "execution_count": 1,
   "metadata": {},
   "outputs": [],
   "source": [
    "list1 = [1,2,3,4, [44,55,66, True], False, (34,56,78,89,34), \n",
    "         {1,2,3,3,2,1}, {1:34, \"key2\": [55, 67, 78, 89], 4: (45, 22, 61, 34)}, \n",
    "         [56, 'data science'], 'Machine Learning']"
   ]
  },
  {
   "cell_type": "code",
   "execution_count": 81,
   "metadata": {},
   "outputs": [],
   "source": [
    "from functools import reduce"
   ]
  },
  {
   "cell_type": "code",
   "execution_count": 91,
   "metadata": {},
   "outputs": [],
   "source": [
    "def product_numbers(a, l):\n",
    "    \"\"\"Return the product of all the numbers after creating a flat list\n",
    "\n",
    "    Args:\n",
    "        a (_type_): An iterable object\n",
    "    Return:\n",
    "        product of all the numbers\n",
    "    \"\"\"\n",
    "    \n",
    "    for i in a:\n",
    "        if type(i) == int or type(i) == float:\n",
    "            l.append(i)\n",
    "        elif type(i) == list or type(i) == tuple:\n",
    "            product_numbers(i, l)\n",
    "        elif type(i) == set:\n",
    "            product_numbers(list(i), l)\n",
    "        elif type(i) == dict:\n",
    "            product_numbers(list(i.items()), l)\n",
    "    \n",
    "    return reduce(lambda x, y: x * y, l)\n",
    "        "
   ]
  },
  {
   "cell_type": "code",
   "execution_count": 92,
   "metadata": {},
   "outputs": [
    {
     "data": {
      "text/plain": [
       "4134711838987085478833841242112000"
      ]
     },
     "execution_count": 92,
     "metadata": {},
     "output_type": "execute_result"
    }
   ],
   "source": [
    "product_numbers(list1, [])"
   ]
  },
  {
   "attachments": {},
   "cell_type": "markdown",
   "metadata": {},
   "source": [
    "**Q2. Write a python program for encrypting a message sent to you by your friend. The logic of encryption should be such that, for a the output should be z. For b, the output should be y. For c, the output should be x respectively. Also, the whitespace should be replaced with a dollar sign. Keep the punctuation marks unchanged.**"
   ]
  },
  {
   "cell_type": "code",
   "execution_count": 103,
   "metadata": {},
   "outputs": [],
   "source": [
    "string_in = \"I want to become a Data Scientist.\""
   ]
  },
  {
   "cell_type": "code",
   "execution_count": 104,
   "metadata": {},
   "outputs": [],
   "source": [
    "def encrypting(s):\n",
    "    \"\"\"Encrypt string given annd return\n",
    "\n",
    "    Args:\n",
    "        s (str): string input\n",
    "    \"\"\"\n",
    "    ascii_value_encrypted_list = []\n",
    "    s = s.lower()\n",
    "    for c in s:\n",
    "        ascii_value = ord(c)\n",
    "        if ascii_value == 32:\n",
    "            new_ascii_value = 36\n",
    "        elif ascii_value >= 97:\n",
    "            new_ascii_value = ascii_value + 25 - 2 * (ascii_value - 97)\n",
    "        else:\n",
    "            new_ascii_value = ascii_value\n",
    "        ascii_value_encrypted_list.append(new_ascii_value)\n",
    "    \n",
    "    encypted_text = ''.join(chr(i) for i in ascii_value_encrypted_list)\n",
    "    return encypted_text\n",
    "        "
   ]
  },
  {
   "cell_type": "code",
   "execution_count": 105,
   "metadata": {},
   "outputs": [
    {
     "data": {
      "text/plain": [
       "'r$dzmg$gl$yvxlnv$z$wzgz$hxrvmgrhg.'"
      ]
     },
     "execution_count": 105,
     "metadata": {},
     "output_type": "execute_result"
    }
   ],
   "source": [
    "encrypting(string_in)"
   ]
  },
  {
   "cell_type": "code",
   "execution_count": null,
   "metadata": {},
   "outputs": [],
   "source": []
  }
 ],
 "metadata": {
  "kernelspec": {
   "display_name": "Python 3",
   "language": "python",
   "name": "python3"
  },
  "language_info": {
   "codemirror_mode": {
    "name": "ipython",
    "version": 3
   },
   "file_extension": ".py",
   "mimetype": "text/x-python",
   "name": "python",
   "nbconvert_exporter": "python",
   "pygments_lexer": "ipython3",
   "version": "3.10.6"
  },
  "orig_nbformat": 4,
  "vscode": {
   "interpreter": {
    "hash": "e7370f93d1d0cde622a1f8e1c04877d8463912d04d973331ad4851f04de6915a"
   }
  }
 },
 "nbformat": 4,
 "nbformat_minor": 2
}
