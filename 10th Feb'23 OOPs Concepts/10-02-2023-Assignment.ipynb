{
 "cells": [
  {
   "attachments": {},
   "cell_type": "markdown",
   "metadata": {},
   "source": [
    "**Q1. Which function is used to open a file? What are the different modes of opening a file? Explain each mode of file opening.**\n",
    "\n",
    "- open() method is used to open a file\n",
    "\n",
    "- There are multiple modes of opening a file:\n",
    "    - \"r\": open a file for reading.\n",
    "    - \"w\": open a file for writting. If file does not exist, new file will be created.\n",
    "    - \"x\": open file for exclusive creation. If the file already exists, the operation fails.\n",
    "    - \"a\": open a file and appending at the end of the file. If file does not exist. new file will be created.\n",
    "    - \"t\": open in text mode.\n",
    "    - \"b\": open in binary mode.\n",
    "    - \"+\": open file for updating."
   ]
  },
  {
   "attachments": {},
   "cell_type": "markdown",
   "metadata": {},
   "source": [
    "**Q2. Why close() function is used? Why is it important to close a file?**\n",
    "\n",
    "- When we are done with performing action on files, we need to close the file using close() method to save it.\n",
    "- Closing a file will free up the resources that were tied with the file."
   ]
  },
  {
   "attachments": {},
   "cell_type": "markdown",
   "metadata": {},
   "source": [
    "**Q3. Write a python program to create a text file. Write ‘I want to become a Data Scientist’ in that file. Then close the file. Open this file and read the content of the file.**"
   ]
  },
  {
   "cell_type": "code",
   "execution_count": 40,
   "metadata": {},
   "outputs": [],
   "source": [
    "with open(\"10-02-2023-text1.txt\", \"w\") as f:\n",
    "    f.write(\"I want to become a Data Scientist\")\n",
    "    f.close()"
   ]
  },
  {
   "cell_type": "code",
   "execution_count": 41,
   "metadata": {},
   "outputs": [
    {
     "name": "stdout",
     "output_type": "stream",
     "text": [
      "I want to become a Data Scientist\n"
     ]
    }
   ],
   "source": [
    "with open(\"10-02-2023-text1.txt\", \"r\") as f:\n",
    "    print(f.read())"
   ]
  },
  {
   "attachments": {},
   "cell_type": "markdown",
   "metadata": {},
   "source": [
    "**Q4. Explain the following with python code: read(), readline() and readlines().**\n",
    "\n",
    "- read() method will print out all the lines of the file.\n",
    "- readline() method will print out line once per time call and put the pointer / cursor at the end of that line.\n",
    "- readlines() method will return the list contains all the lines of the file."
   ]
  },
  {
   "attachments": {},
   "cell_type": "markdown",
   "metadata": {},
   "source": [
    "**Q5. Explain why with statement is used with open(). What is the advantage of using with statement and open() together?**\n",
    "\n",
    "- The with statement is used with open() will ensure that the data of the file will only be opened in with call area. Supporting with statement in your objects will ensure that you never leave any resource open. "
   ]
  },
  {
   "attachments": {},
   "cell_type": "markdown",
   "metadata": {},
   "source": [
    "**Q6. Explain the write() and writelines() functions. Give a suitable example.**\n",
    "\n",
    "- The write() function will write the content in the file without adding any extra characters\n",
    "- The writelines() writes the content of a list to a file."
   ]
  },
  {
   "cell_type": "code",
   "execution_count": 42,
   "metadata": {},
   "outputs": [],
   "source": [
    "with open(\"10-02-2023-text2.txt\", \"w\") as f:\n",
    "    f.write(\"Data Science Masterclass\\n\")\n",
    "    f.write(\"Sudh and Krish\")\n",
    "    f.close()"
   ]
  },
  {
   "cell_type": "code",
   "execution_count": 43,
   "metadata": {},
   "outputs": [
    {
     "name": "stdout",
     "output_type": "stream",
     "text": [
      "Data Science Masterclass\n",
      "Sudh and Krish\n"
     ]
    }
   ],
   "source": [
    "with open(\"10-02-2023-text2.txt\", \"r\") as f:\n",
    "    print(f.read())\n",
    "    f.close()"
   ]
  },
  {
   "cell_type": "code",
   "execution_count": 44,
   "metadata": {},
   "outputs": [],
   "source": [
    "lst = [\"Data Science Masterclass\\n\", \"Web Development\\n\", \"Java DSA and System\\n\"]"
   ]
  },
  {
   "cell_type": "code",
   "execution_count": 45,
   "metadata": {},
   "outputs": [],
   "source": [
    "with open(\"10-02-2023-text3.txt\", \"w\") as f:\n",
    "    f.writelines(lst)\n",
    "    f.close()"
   ]
  },
  {
   "cell_type": "code",
   "execution_count": 46,
   "metadata": {},
   "outputs": [
    {
     "name": "stdout",
     "output_type": "stream",
     "text": [
      "['Data Science Masterclass\\n', 'Web Development\\n', 'Java DSA and System\\n']\n"
     ]
    }
   ],
   "source": [
    "with open(\"10-02-2023-text3.txt\", \"r\") as f:\n",
    "    print(f.readlines())\n",
    "    f.close()"
   ]
  }
 ],
 "metadata": {
  "kernelspec": {
   "display_name": "Python 3",
   "language": "python",
   "name": "python3"
  },
  "language_info": {
   "codemirror_mode": {
    "name": "ipython",
    "version": 3
   },
   "file_extension": ".py",
   "mimetype": "text/x-python",
   "name": "python",
   "nbconvert_exporter": "python",
   "pygments_lexer": "ipython3",
   "version": "3.10.6"
  },
  "orig_nbformat": 4,
  "vscode": {
   "interpreter": {
    "hash": "e7370f93d1d0cde622a1f8e1c04877d8463912d04d973331ad4851f04de6915a"
   }
  }
 },
 "nbformat": 4,
 "nbformat_minor": 2
}
