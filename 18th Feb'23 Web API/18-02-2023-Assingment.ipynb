{
 "cells": [
  {
   "attachments": {},
   "cell_type": "markdown",
   "metadata": {},
   "source": [
    "**Q1. What is an API? Give an example, where an API is used in real life.**\n",
    "\n",
    "- An API is Application Programing Interface taht allows two seperate software components to share data.\n",
    "\n",
    "- Example of API: Pay with Paypal: The \"Pay with PayPal\" functionality, like checking in with a social networking site, is done via APIs to ensure that the end application can only do what it needs to accomplish without being exposed to sensitive data or gaining access to unwelcome privileges."
   ]
  },
  {
   "attachments": {},
   "cell_type": "markdown",
   "metadata": {},
   "source": [
    "**Q2. Give advantages and disadvantages of using API.**\n",
    "\n",
    "- Advantages: API allows your users to do more with your product of the service:\n",
    "    - Integration: Push notifications from the product to a messaging tool such as Slack. People don't have to access directly to an app to see the notification.\n",
    "    - New functionality: Some of the most popular Twitter clients were produced by third parties using the Twitter API. Twitter and its users benefited from the new functionality that was undertaken by other companies.\n",
    "- Disavandtages: \n",
    "    - Cost: Providing an API is expensive in term of development time, maintainance, API documentation and support to users who are using an API.\n",
    "    - Security exposure: Adding an APIs can adds an attack surface to youre website."
   ]
  },
  {
   "attachments": {},
   "cell_type": "markdown",
   "metadata": {},
   "source": [
    "**Q3. What is a Web API? Differentiate between API and Web API.**\n",
    "\n",
    "- A Web API is an application programming interface for the Web.\n",
    "\n",
    "- API stands for Application Programming Interface. Web API use API to help accessing data."
   ]
  },
  {
   "attachments": {},
   "cell_type": "markdown",
   "metadata": {},
   "source": [
    "**Q4. Explain REST and SOAP Architecture. Mention shortcomings of SOAP.**\n",
    "\n",
    "- REST provides a lighter-weight alternative. Many developers found SOAP cumbersome and hard to use. Instead of using XML to make a request, REST (usually) relies on a simple URL. In some situations you must provide additional information, but most web services using REST rely exclusively on using the URL approach. REST can use four different HTTP 1.1 verbs (GET, POST, PUT, and DELETE) to perform tasks. REST stands for Representational State Transfer.\n",
    "\n",
    "- SOAP is a protocol which was designed before REST and came into the picture. The main idea behind designing SOAP was to ensure that programs built on different platforms and programming languages could exchange data in an easy manner. SOAP stands for Simple Object Access Protocol and supports the XML data format only and strongly follows preset standards such as messaging structure, a set of encoding rules, and a convention for providing procedure requests and responses.\n",
    "\n",
    "- SOAP or Simple Objects Access Protocol is a web communication protocol designed for Microsoft back in 1998."
   ]
  },
  {
   "attachments": {},
   "cell_type": "markdown",
   "metadata": {},
   "source": [
    "**Q5. Differentiate between REST and SOAP.**\n",
    "\n",
    "- REST API:\n",
    "    - Generally transports data in JSON. It is based on URI. Because REST follows stateless model, REST does not enforces message format as XML or JSON etc.\n",
    "    - It works with GET, POST, PUT, DELETE.\n",
    "    - Works over HTTP and HTTPS.\n",
    "    - Less structured -> less bulky data.\n",
    "- SOAP API:\n",
    "    - Transports data in standard XML format.\n",
    "    - SOAP is XML based and relies on SOAP, it works with WSDL.\n",
    "    - Works over HTTP, HTTPS, SMTP, XMPP.\n",
    "    - Highly structured/typed."
   ]
  },
  {
   "cell_type": "code",
   "execution_count": null,
   "metadata": {},
   "outputs": [],
   "source": []
  }
 ],
 "metadata": {
  "language_info": {
   "name": "python"
  },
  "orig_nbformat": 4
 },
 "nbformat": 4,
 "nbformat_minor": 2
}
