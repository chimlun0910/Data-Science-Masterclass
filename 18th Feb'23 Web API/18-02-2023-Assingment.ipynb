{
 "cells": [
  {
   "attachments": {},
   "cell_type": "markdown",
   "metadata": {},
   "source": [
    "**Q1. What is an API? Give an example, where an API is used in real life.**\n",
    "\n",
    "- An API is Application Programing Interface that allows two seperate software components to share data.\n",
    "\n",
    "- Example of API: Pay with Paypal: The \"Pay with PayPal\" functionality, like checking in with a social networking site, is done via APIs to ensure that the end application can only do what it needs to accomplish without being exposed to sensitive data or gaining access to unwelcome privileges."
   ]
  },
  {
   "attachments": {},
   "cell_type": "markdown",
   "metadata": {},
   "source": [
    "**Q2. Give advantages and disadvantages of using API.**\n",
    "\n",
    "- Advantages: API allows your users to do more with your product of the service:\n",
    "    - Integration: Push notifications from the product to a messaging tool such as Slack. People don't have to access directly to an app to see the notification.\n",
    "    - New functionality: Some of the most popular Twitter clients were produced by third parties using the Twitter API. Twitter and its users benefited from the new functionality that was undertaken by other companies.\n",
    "- Disavandtages: \n",
    "    - Cost: Providing an API is expensive in term of development time, maintainance, API documentation and support to users who are using an API.\n",
    "    - Security exposure: Adding an APIs can adds an attack surface to youre website."
   ]
  },
  {
   "attachments": {},
   "cell_type": "markdown",
   "metadata": {},
   "source": [
    "**Q3. What is a Web API? Differentiate between API and Web API.**\n",
    "\n",
    "- A Web API is a set of standards and protocols for accessing web-based software applications or web tools.\n",
    "\n",
    "- API stands for Application Programming Interface that allows software applications to interact with each other."
   ]
  },
  {
   "attachments": {},
   "cell_type": "markdown",
   "metadata": {},
   "source": [
    "**Q4. Explain REST and SOAP Architecture. Mention shortcomings of SOAP.**\n",
    "\n",
    "- REST stands for Representational State Transfer and is a software architecture style for creating scalable web services. RESTful web services use HTTP protocols and return data in the form of JSON or XML. RESTful architecture is designed to be lightweight and easy to use, making it a popular choice for building web-based applications and APIs.\n",
    "\n",
    "- SOAP stands for Simple Object Access Protocol and is a protocol for sending and receiving messages between applications. SOAP messages are typically sent over HTTP or other transport protocols and are formatted in XML. SOAP is designed to provide a secure and reliable way for applications to communicate with each other, making it a popular choice for building web-based services.\n",
    "\n",
    "- SOAP or Simple Objects Access Protocol is a web communication protocol designed for Microsoft back in 1998."
   ]
  },
  {
   "attachments": {},
   "cell_type": "markdown",
   "metadata": {},
   "source": [
    "**Q5. Differentiate between REST and SOAP.**\n",
    "\n",
    "- REST API:\n",
    "    - Generally transports data in JSON. It is based on URI. Because REST follows stateless model, REST does not enforces message format as XML or JSON etc.\n",
    "    - It works with GET, POST, PUT, DELETE.\n",
    "    - Works over HTTP and HTTPS.\n",
    "    - Less structured -> less bulky data.\n",
    "- SOAP API:\n",
    "    - Transports data in standard XML format.\n",
    "    - SOAP is XML based and relies on SOAP, it works with WSDL.\n",
    "    - Works over HTTP, HTTPS, SMTP, XMPP.\n",
    "    - Highly structured/typed."
   ]
  },
  {
   "cell_type": "code",
   "execution_count": null,
   "metadata": {},
   "outputs": [],
   "source": []
  }
 ],
 "metadata": {
  "kernelspec": {
   "display_name": "Python 3",
   "language": "python",
   "name": "python3"
  },
  "language_info": {
   "name": "python",
   "version": "3.10.6"
  },
  "orig_nbformat": 4,
  "vscode": {
   "interpreter": {
    "hash": "e7370f93d1d0cde622a1f8e1c04877d8463912d04d973331ad4851f04de6915a"
   }
  }
 },
 "nbformat": 4,
 "nbformat_minor": 2
}
