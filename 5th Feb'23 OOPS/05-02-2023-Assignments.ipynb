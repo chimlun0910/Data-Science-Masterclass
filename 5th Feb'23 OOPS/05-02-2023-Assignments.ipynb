{
 "cells": [
  {
   "attachments": {},
   "cell_type": "markdown",
   "metadata": {},
   "source": [
    "**Q1. Explain Class and Object with respect to Object-Oriented Programming. Give a suitable example.**\n",
    "\n",
    "- A class is an entity that determines how an object will behave and what the object will contain. A class is a blueprint to build a specific type of an object\n",
    "\n",
    "- An object is component that consists of methods and properties to make data useful."
   ]
  },
  {
   "cell_type": "code",
   "execution_count": 1,
   "metadata": {},
   "outputs": [],
   "source": [
    "class test:\n",
    "    pass"
   ]
  },
  {
   "cell_type": "code",
   "execution_count": 2,
   "metadata": {},
   "outputs": [],
   "source": [
    "ronan = test()"
   ]
  },
  {
   "attachments": {},
   "cell_type": "markdown",
   "metadata": {},
   "source": [
    "- Test is a class.\n",
    "- ronan is an object of class test"
   ]
  },
  {
   "attachments": {},
   "cell_type": "markdown",
   "metadata": {},
   "source": [
    "**Q2. Name the four pillars of OOPs.**\n",
    "\n",
    "- Inheritance, Polymorphism, Encapsulation and Abstraction"
   ]
  },
  {
   "attachments": {},
   "cell_type": "markdown",
   "metadata": {},
   "source": [
    "**Q3.Explain why the __init__() function is used. Give a suitable example.**\n",
    "\n",
    "- A constructor is a special method that will be called when an object of the class is initialized. The __init__ method lets the class initialize the object’s attributes. It is only used within classes. "
   ]
  },
  {
   "cell_type": "code",
   "execution_count": 3,
   "metadata": {},
   "outputs": [],
   "source": [
    "class student_information:\n",
    "    def __init__(self, name, age, student_id):\n",
    "        self.name = name\n",
    "        self.age = age\n",
    "        self.student_id = student_id\n",
    "    \n",
    "    def return_details(self):\n",
    "        return self.name, self.age, self.student_id"
   ]
  },
  {
   "cell_type": "code",
   "execution_count": 4,
   "metadata": {},
   "outputs": [],
   "source": [
    "ronan = student_information(\"Ronan\", 19, \"STU9542\")"
   ]
  },
  {
   "cell_type": "code",
   "execution_count": 5,
   "metadata": {},
   "outputs": [
    {
     "data": {
      "text/plain": [
       "('Ronan', 19, 'STU9542')"
      ]
     },
     "execution_count": 5,
     "metadata": {},
     "output_type": "execute_result"
    }
   ],
   "source": [
    "ronan.return_details()"
   ]
  },
  {
   "attachments": {},
   "cell_type": "markdown",
   "metadata": {},
   "source": [
    "**Q4. Why self is used in OOPs?**\n",
    "\n",
    "- The self is used to represent the instance of the class. In other words, self is a pointer pointed to the instance of class.\n",
    "- It's no need to use the keyword \"self\" all the time, we can define any keyword we want. But \"self\" should be used due to convention"
   ]
  },
  {
   "attachments": {},
   "cell_type": "markdown",
   "metadata": {},
   "source": [
    "**Q5. What is inheritance? Give an example for each type of inheritance.**\n",
    "\n",
    "- Inheritance is a mechanism that allows you to create a hierarchy of classes that share a set of properties and methods by deriving a class from another class. \n",
    "- There are 5 types of innheritance:\n",
    "    - **Single Inheritance**: Single inheritance enables a derived class to inherit properties from a single parent class.\n",
    "    - **Multiple Inheritance**: When a class can be derived from more than one base class is called Multiple Inheritance.\n",
    "    - **Multilevel Inheritance**: Features of the base class and the derived class are further inherited into the new derived class.\n",
    "    - **Hierarchical Inheritance**: When more than one derived class are created from a single base is called Hierarchical Inheritance.\n",
    "    - **Hybrid Inheritance**: Inheritance consisting of multiple types of inheritance is called hybrid inheritance."
   ]
  },
  {
   "cell_type": "code",
   "execution_count": 11,
   "metadata": {},
   "outputs": [],
   "source": [
    "# Base class\n",
    "class Parent:\n",
    "    def say1(self):\n",
    "        print(\"This is a Parent Class\")"
   ]
  },
  {
   "cell_type": "code",
   "execution_count": 12,
   "metadata": {},
   "outputs": [],
   "source": [
    "# Single Inheritance\n",
    "class Son(Parent):\n",
    "    def say2(self):\n",
    "        print(\"This is a Son Class\")"
   ]
  },
  {
   "cell_type": "code",
   "execution_count": 16,
   "metadata": {},
   "outputs": [],
   "source": [
    "# Multiple Inheritance\n",
    "class Son(Parent):\n",
    "    def say2(self):\n",
    "        print(\"This is a Son Class\")\n",
    "\n",
    "class Daughter(Parent):\n",
    "    def say3(self):\n",
    "        print(\"This is a Daughter Class\")"
   ]
  },
  {
   "cell_type": "code",
   "execution_count": 17,
   "metadata": {},
   "outputs": [],
   "source": [
    "# Multilevel Inheritance\n",
    "class Son(Parent):\n",
    "    def say2(self):\n",
    "        print(\"This is a Son Class\")\n",
    "\n",
    "class Grandchildren(Son):\n",
    "    def say4(self):\n",
    "        print(\"This is Grandchildren Class\")"
   ]
  },
  {
   "cell_type": "code",
   "execution_count": 18,
   "metadata": {},
   "outputs": [],
   "source": [
    "# Hierarchical Inheritance\n",
    "class Son(Parent):\n",
    "    def say2(self):\n",
    "        print(\"This is a Son Class\")\n",
    "\n",
    "class Daughter1(Parent):\n",
    "    def say3(self):\n",
    "        print(\"This is a Daughter1 Class\")\n",
    "\n",
    "class Daughter2(Parent):\n",
    "    def say3(self):\n",
    "        print(\"This is a Daughter2 Class\")"
   ]
  },
  {
   "cell_type": "code",
   "execution_count": 19,
   "metadata": {},
   "outputs": [],
   "source": [
    "# Hybrid Inheritance\n",
    "class School:\n",
    "    def func1(self):\n",
    "        print(\"This function is in school.\")\n",
    " \n",
    " \n",
    "class Student1(School):\n",
    "    def func2(self):\n",
    "        print(\"This function is in student 1. \")\n",
    " \n",
    " \n",
    "class Student2(School):\n",
    "    def func3(self):\n",
    "        print(\"This function is in student 2.\")\n",
    " \n",
    " \n",
    "class Student3(Student1, School):\n",
    "    def func4(self):\n",
    "        print(\"This function is in student 3.\")"
   ]
  }
 ],
 "metadata": {
  "kernelspec": {
   "display_name": "Python 3",
   "language": "python",
   "name": "python3"
  },
  "language_info": {
   "codemirror_mode": {
    "name": "ipython",
    "version": 3
   },
   "file_extension": ".py",
   "mimetype": "text/x-python",
   "name": "python",
   "nbconvert_exporter": "python",
   "pygments_lexer": "ipython3",
   "version": "3.10.6"
  },
  "orig_nbformat": 4,
  "vscode": {
   "interpreter": {
    "hash": "e7370f93d1d0cde622a1f8e1c04877d8463912d04d973331ad4851f04de6915a"
   }
  }
 },
 "nbformat": 4,
 "nbformat_minor": 2
}
